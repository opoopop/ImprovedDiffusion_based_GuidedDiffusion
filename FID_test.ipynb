{
 "cells": [
  {
   "cell_type": "code",
   "execution_count": null,
   "id": "6391d563",
   "metadata": {},
   "outputs": [
    {
     "name": "stdout",
     "output_type": "stream",
     "text": [
      "✅ 已成功保存 50000 张 RGB 图片到 /home/chunjie/improved-diffusion-main/ML_project/linear_schedule/img\n"
     ]
    }
   ],
   "source": [
    "import numpy as np\n",
    "import matplotlib.pyplot as plt\n",
    "import os\n",
    "from PIL import Image\n",
    "\n",
    "def save_npz_images(npz_path, save_dir, num_images=50):\n",
    "    \"\"\"\n",
    "    load images from npz_file\n",
    "    - npz_path (str): .npz file path\n",
    "    - save_dir (str): save path\n",
    "    - num_images (int): save numbers\n",
    "    \"\"\"\n",
    "\n",
    "    os.makedirs(save_dir, exist_ok=True)\n",
    "\n",
    "\n",
    "    data = np.load(npz_path)\n",
    "\n",
    "\n",
    "    images = data[\"arr_0\"] \n",
    "\n",
    " \n",
    "    num_images = min(num_images, images.shape[0])\n",
    "\n",
    "    for i in range(num_images):\n",
    "        img = images[i]\n",
    "\n",
    "\n",
    "        if img.dtype != np.uint8:\n",
    "            img = (img * 255).astype(np.uint8)  \n",
    "\n",
    "        if img.shape[-1] == 4:\n",
    "            img = Image.fromarray(img).convert(\"RGB\")\n",
    "        else:\n",
    "            img = Image.fromarray(img)\n",
    "\n",
    "        save_path = os.path.join(save_dir, f\"sample_{i}.png\")\n",
    "        img.save(save_path, format=\"PNG\")\n",
    "\n",
    "    print(f\"✅ 已成功保存 {num_images} 张 RGB 图片到 {save_dir}\")\n",
    "\n",
    "\n",
    "\n",
    "\n",
    "\n",
    "npz_path=\"/home/chunjie/improved-diffusion-main/ML_project/linear_schedule/samples_50000x32x32x3.npz\"\n",
    "save_dir=\"/home/chunjie/improved-diffusion-main/ML_project/linear_schedule/img\"\n",
    "save_npz_images(npz_path,save_dir,num_images=50000)\n",
    "\n",
    "\n",
    "\n"
   ]
  },
  {
   "cell_type": "code",
   "execution_count": null,
   "id": "a4ce6cf2",
   "metadata": {},
   "outputs": [
    {
     "name": "stderr",
     "output_type": "stream",
     "text": [
      "Creating feature extractor \"inception-v3-compat\" with features ['logits_unbiased', '2048']\n",
      "Extracting features from input1\n",
      "Looking for samples non-recursivelty in \"/home/chunjie/improved-diffusion-main/datasets/cifar_train\" with extensions png,jpg,jpeg\n",
      "Found 50000 samples\n",
      "/home/chunjie/miniconda3/envs/MyPytorch/lib/python3.13/site-packages/torch_fidelity/datasets.py:16: UserWarning: TypedStorage is deprecated. It will be removed in the future and UntypedStorage will be the only storage class. This should only matter to you if you are using storages directly.  To access UntypedStorage directly, use tensor.untyped_storage() instead of tensor.storage()\n",
      "  img = torch.ByteTensor(torch.ByteStorage.from_buffer(img.tobytes())).view(height, width, 3)\n",
      "Processing samples                                                                                                                               \n",
      "Extracting features from input2\n",
      "Looking for samples non-recursivelty in \"/home/chunjie/improved-diffusion-main/ML_project/linear_schedule/img\" with extensions png,jpg,jpeg\n",
      "Found 50000 samples\n",
      "Processing samples                                                                                                                               \n",
      "Inception Score: 11.246055800480613 ± 0.14352855727580247\n",
      "Frechet Inception Distance: 4.408335713021643\n",
      "                                                                                                                                                 "
     ]
    },
    {
     "name": "stdout",
     "output_type": "stream",
     "text": [
      "{'inception_score_mean': 11.246055800480613, 'inception_score_std': 0.14352855727580247, 'frechet_inception_distance': 4.408335713021643, 'kernel_inception_distance_mean': 0.0031043338775634767, 'kernel_inception_distance_std': 0.0005775018845715509}\n"
     ]
    },
    {
     "name": "stderr",
     "output_type": "stream",
     "text": [
      "Kernel Inception Distance: 0.0031043338775634767 ± 0.0005775018845715509\n"
     ]
    }
   ],
   "source": [
    "# fid test\n",
    "import torch_fidelity\n",
    "real_images_path = \"/home/chunjie/improved-diffusion-main/datasets/cifar_train\"\n",
    "fake_images_path=save_dir\n",
    "metrics = torch_fidelity.calculate_metrics(\n",
    "    input1=real_images_path,\n",
    "    input2=fake_images_path,\n",
    "    cuda=True,\n",
    "    isc=True, \n",
    "    fid=True, \n",
    "    kid=True,\n",
    "    precision=True,  \n",
    "    recall=True,  \n",
    ")\n",
    "print(metrics)  "
   ]
  }
 ],
 "metadata": {
  "kernelspec": {
   "display_name": "Python 3 (ipykernel)",
   "language": "python",
   "name": "python3"
  },
  "language_info": {
   "codemirror_mode": {
    "name": "ipython",
    "version": 3
   },
   "file_extension": ".py",
   "mimetype": "text/x-python",
   "name": "python",
   "nbconvert_exporter": "python",
   "pygments_lexer": "ipython3",
   "version": "3.13.5"
  }
 },
 "nbformat": 4,
 "nbformat_minor": 5
}
