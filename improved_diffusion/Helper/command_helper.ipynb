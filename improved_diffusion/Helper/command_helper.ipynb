{
 "cells": [
  {
   "cell_type": "code",
   "execution_count": null,
   "metadata": {},
   "outputs": [],
   "source": [
    "export OPENAI_LOGDIR=~/improved-diffusion-main/model_train/conv_test\n",
    "echo $OPENAI_LOGDIR"
   ]
  },
  {
   "cell_type": "code",
   "execution_count": null,
   "metadata": {},
   "outputs": [],
   "source": [
    "     python scripts/image_sample.py \\\n",
    "    --model_path /home/chunjielu/improved-diffusion-main/models/ema_0.9999_080000.pt \\\n",
    "    --num_samples 500 \\\n",
    "    --use_ddim True \\\n",
    "    --timestep_respacing ddim100 \\\n",
    "    --batch_size 64 \\\n",
    "    $MODEL_FLAGS $DIFFUSION_FLAGS"
   ]
  },
  {
   "cell_type": "code",
   "execution_count": null,
   "metadata": {},
   "outputs": [],
   "source": [
    "timeout 32h python scripts/image_train.py --data_dir /home/chunjie/improved-diffusion-main/datasets/cifar_train $MODEL_FLAGS $DIFFUSION_FLAGS $TRAIN_FLAGS --resume_checkpoint /home/chunjie/improved-diffusion-main/logs/cifar10_org/model240000.pt\n",
    "\n",
    "timeout 30h python scripts/image_train.py --data_dir /home/chunjie/improved-diffusion-main/datasets/cifar10g_train_15pi_scale25_50k $MODEL_FLAGS $DIFFUSION_FLAGS $TRAIN_FLAGS"
   ]
  },
  {
   "cell_type": "code",
   "execution_count": null,
   "metadata": {},
   "outputs": [],
   "source": [
    "# cifar10 setting\n",
    "MODEL_FLAGS=\"--image_size 32 --num_channels 128 --num_res_blocks 3 --learn_sigma True --dropout 0.3\"\n",
    "DIFFUSION_FLAGS=\"--diffusion_steps 4000 --noise_schedule cosine\"\n",
    "TRAIN_FLAGS=\"--lr 1e-4 --batch_size 128\""
   ]
  },
  {
   "cell_type": "code",
   "execution_count": null,
   "metadata": {},
   "outputs": [],
   "source": [
    "wget -O /home/chunjielu/guided-diffusion-main/models/32x32_cifar10_diffusion.pt \"https://openaipublic.blob.core.windows.net/diffusion/march-2021/cifar10_uncond_50M_500K.pt\" "
   ]
  },
  {
   "cell_type": "code",
   "execution_count": null,
   "metadata": {},
   "outputs": [],
   "source": [
    "python scripts/image_train.py --data_dir /home/chunjielu/guided-diffusion-main/datasets/conv_sample $MODEL_FLAGS $DIFFUSION_FLAGS $TRAIN_FLAGS"
   ]
  },
  {
   "cell_type": "code",
   "execution_count": null,
   "metadata": {},
   "outputs": [],
   "source": [
    "#3/18 13:26\n",
    "     python scripts/image_sample.py \\\n",
    "    --model_path /home/chunjielu/improved-diffusion-main/model_train/conv/ema_0.9999_300000.pt \\\n",
    "    --num_samples 1 \\\n",
    "    --use_ddim True \\\n",
    "    --timestep_respacing ddim250 \\\n",
    "    --batch_size 1 \\\n",
    "    $MODEL_FLAGS $DIFFUSION_FLAGS"
   ]
  },
  {
   "cell_type": "code",
   "execution_count": null,
   "metadata": {},
   "outputs": [],
   "source": [
    "/home/chunjie/improved-diffusion-main/datasets/0320/conv_3dim\n",
    "\n",
    "#3/20/22:53\n",
    "export OPENAI_LOGDIR=~/improved-diffusion-main/model_train/conv_test\n",
    "python scripts/image_train.py --data_dir /home/chunjie/improved-diffusion-main/datasets/0320/conv_3dim $MODEL_FLAGS $DIFFUSION_FLAGS $TRAIN_FLAGS\n",
    "\n"
   ]
  },
  {
   "cell_type": "code",
   "execution_count": null,
   "metadata": {},
   "outputs": [],
   "source": [
    "     python scripts/image_sample.py \\\n",
    "    --model_path /home/chunjie/improved-diffusion-main/logs2/cifar10_15pi_scale25_alldim/ema_0.9999_430000.pt \\\n",
    "    --num_samples 5000 \\\n",
    "    --use_ddim True \\\n",
    "    --timestep_respacing ddim250 \\\n",
    "    --batch_size 64 \\\n",
    "    $MODEL_FLAGS $DIFFUSION_FLAGS"
   ]
  },
  {
   "cell_type": "code",
   "execution_count": null,
   "metadata": {},
   "outputs": [],
   "source": [
    "# test the model from  /home/chunjie/improved-diffusion-main/0414/\n",
    "# test on 0416\n",
    "MODEL_FLAGS=\"--image_size 32 --num_channels 128 --num_res_blocks 3 --learn_sigma True --dropout 0.3\"\n",
    "DIFFUSION_FLAGS=\"--diffusion_steps 4000 --noise_schedule cosine\"\n",
    "TRAIN_FLAGS=\"--lr 1e-4 --batch_size 128\"\n",
    "\n",
    "export OPENAI_LOGDIR=~/improved-diffusion-main/output/0416\n",
    "\n",
    "     python scripts/image_sample.py \\\n",
    "    --model_path /home/chunjielu/improved-diffusion-main/output/0416/ema_0.9999_380000.pt \\\n",
    "    --num_samples 5000 \\\n",
    "    --use_ddim True \\\n",
    "    --timestep_respacing ddim250 \\\n",
    "    --batch_size 64 \\\n",
    "    $MODEL_FLAGS $DIFFUSION_FLAGS"
   ]
  },
  {
   "cell_type": "code",
   "execution_count": null,
   "metadata": {},
   "outputs": [],
   "source": [
    "# a temp test of \"/home/chunjielu/guided-diffusion-main/output/0330/samples_100000x32x32x3_cifar10_scale20_conv_R.npz\" 0417\n",
    "export OPENAI_LOGDIR=~/guided-diffusion-main/output/0330/temp_test\n",
    "\n",
    "     python scripts/image_sample.py \\\n",
    "    --model_path /home/chunjielu/guided-diffusion-main/output/0330/temp_test/ema_0.9999_200000.pt \\\n",
    "    --num_samples 5000 \\\n",
    "    --use_ddim True \\\n",
    "    --timestep_respacing ddim250 \\\n",
    "    --batch_size 64 \\\n",
    "    $MODEL_FLAGS $DIFFUSION_FLAGS\n",
    "\n",
    "# a temp test on /home/chunjielu/guided-diffusion-main/output/0414/temp_test/  0417\n",
    "\n",
    "export OPENAI_LOGDIR=~/guided-diffusion-main/output/0414/temp_test\n",
    "\n",
    "     python scripts/image_sample.py \\\n",
    "    --model_path /home/chunjielu/guided-diffusion-main/output/0414/temp_test/ema_0.9999_200000.pt \\\n",
    "    --num_samples 5000 \\\n",
    "    --use_ddim True \\\n",
    "    --timestep_respacing ddim250 \\\n",
    "    --batch_size 64 \\\n",
    "    $MODEL_FLAGS $DIFFUSION_FLAGS"
   ]
  },
  {
   "cell_type": "code",
   "execution_count": null,
   "metadata": {},
   "outputs": [],
   "source": [
    "# a temp test on /home/chunjielu/guided-diffusion-main/output/0414/temp_test/  0417\n",
    "\n",
    "export OPENAI_LOGDIR=~/guided-diffusion-main/output/0416/sample\n",
    "\"/home/chunjielu/\"\n",
    "     python scripts/image_sample.py \\\n",
    "    --model_path /home/chunjielu/guided-diffusion-main/output/0416/sample/180k/ema_0.9999_180000.pt \\\n",
    "    --num_samples 5000 \\\n",
    "    --use_ddim True \\\n",
    "    --timestep_respacing ddim250 \\\n",
    "    --batch_size 64 \\\n",
    "    $MODEL_FLAGS $DIFFUSION_FLAGS\n",
    "\n",
    "\n",
    "test with more steps:\n",
    "360k:\n",
    "\n",
    "     python scripts/image_sample.py \\\n",
    "    --model_path /home/chunjielu/guided-diffusion-main/output/0416/sample/360k/ema_0.9999_360000.pt \\\n",
    "    --num_samples 5000 \\\n",
    "    --use_ddim True \\\n",
    "    --timestep_respacing ddim250 \\\n",
    "    --batch_size 64 \\\n",
    "    $MODEL_FLAGS $DIFFUSION_FLAGS\n",
    "\n",
    "\n",
    "60k:\n",
    "\n",
    "     python scripts/image_sample.py \\\n",
    "    --model_path /home/chunjielu/guided-diffusion-main/output/0416/sample/60k/ema_0.9999_060000.pt \\\n",
    "    --num_samples 5000 \\\n",
    "    --use_ddim True \\\n",
    "    --timestep_respacing ddim250 \\\n",
    "    --batch_size 64 \\\n",
    "    $MODEL_FLAGS $DIFFUSION_FLAGS"
   ]
  },
  {
   "cell_type": "code",
   "execution_count": null,
   "metadata": {},
   "outputs": [],
   "source": [
    "# a test of multiconv with less groups \n",
    "export OPENAI_LOGDIR=~/guided-diffusion-main/output/0417/sample/180k/\n",
    "\n",
    "     python scripts/image_sample.py \\\n",
    "    --model_path /home/chunjielu/guided-diffusion-main/output/0417/sample/180k/ema_0.9999_180000.pt \\\n",
    "    --num_samples 5000 \\\n",
    "    --use_ddim True \\\n",
    "    --timestep_respacing ddim250 \\\n",
    "    --batch_size 64 \\\n",
    "    $MODEL_FLAGS $DIFFUSION_FLAGS\n"
   ]
  }
 ],
 "metadata": {
  "kernelspec": {
   "display_name": "Python 3 (ipykernel)",
   "language": "python",
   "name": "python3"
  }
 },
 "nbformat": 4,
 "nbformat_minor": 2
}
